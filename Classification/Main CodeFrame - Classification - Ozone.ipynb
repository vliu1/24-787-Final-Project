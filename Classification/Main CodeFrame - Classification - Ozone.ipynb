{
 "cells": [
  {
   "cell_type": "code",
   "execution_count": 1,
   "metadata": {},
   "outputs": [],
   "source": [
    "import numpy as np\n",
    "import pandas as pd\n",
    "import matplotlib.pyplot as plt\n",
    "from sklearn.model_selection import train_test_split\n",
    "from sklearn.linear_model import LinearRegression\n",
    "from sklearn.metrics import r2_score\n",
    "from sklearn.preprocessing import StandardScaler\n",
    "from sklearn.linear_model import Ridge\n",
    "from sklearn.svm import SVR"
   ]
  },
  {
   "cell_type": "code",
   "execution_count": 2,
   "metadata": {},
   "outputs": [],
   "source": [
    "dataframe = pd.read_csv('Test3.csv')\n",
    "data = np.array(dataframe)"
   ]
  },
  {
   "cell_type": "code",
   "execution_count": 3,
   "metadata": {
    "scrolled": true
   },
   "outputs": [],
   "source": [
    "column_heads = list(dataframe.columns.values)\n",
    "FIPS = data[:,0]\n",
    "X = data[:,5:]\n",
    "Y = data[:,3]\n",
    "# plt.scatter(X[:,1],Y)\n",
    "\n",
    "\n",
    "scaler = StandardScaler()\n",
    "scaler.fit(X)\n",
    "xPrime = scaler.transform(X)"
   ]
  },
  {
   "cell_type": "code",
   "execution_count": 4,
   "metadata": {},
   "outputs": [],
   "source": [
    "X_train, X_test, y_train, y_test = train_test_split(X[:,0], Y, test_size=0.3)\n",
    "\n",
    "y_train = np.reshape(y_train, (-1, 1))\n",
    "y_test = np.reshape(y_test, (-1, 1))\n",
    "X_train = np.reshape(X_train, (-1, 1))\n",
    "X_test = np.reshape(X_test, (-1, 1))\n",
    "\n",
    "LR = LinearRegression().fit(X_train, y_train)\n",
    "yPrime = LR.predict(X_train)\n",
    "# plt.scatter(X[:,0],Y)\n",
    "# plt.plot(X_train,yPrime, c='r')\n"
   ]
  },
  {
   "cell_type": "code",
   "execution_count": 5,
   "metadata": {},
   "outputs": [
    {
     "name": "stdout",
     "output_type": "stream",
     "text": [
      "LogisticRegression(max_iter=100000000.0)\n",
      "scores: train =  0.76 , test =  0.73\n",
      "\n",
      "\n",
      "\n",
      "RandomForestClassifier()\n",
      "scores: train =  1.0 , test =  0.72\n",
      "\n",
      "\n",
      "\n",
      "SVC(kernel='linear') linear\n",
      "scores: train =  0.75 , test =  0.73\n",
      "\n",
      "\n",
      "\n",
      "SVC() rbf\n",
      "scores: train =  0.79 , test =  0.75\n",
      "\n",
      "\n",
      "\n"
     ]
    },
    {
     "data": {
      "text/plain": [
       "<BarContainer object of 15 artists>"
      ]
     },
     "execution_count": 5,
     "metadata": {},
     "output_type": "execute_result"
    },
    {
     "data": {
      "image/png": "[encoded data removed]",
      "text/plain": [
       "<Figure size 432x288 with 1 Axes>"
      ]
     },
     "metadata": {
      "needs_background": "light"
     },
     "output_type": "display_data"
    }
   ],
   "source": [
    "X_train, X_test, y_train, y_test = train_test_split(xPrime, Y, test_size=0.3)\n",
    "\n",
    "from sklearn.linear_model import LogisticRegression\n",
    "from sklearn.ensemble import RandomForestClassifier\n",
    "from sklearn import svm\n",
    "from sklearn.svm import SVC\n",
    "\n",
    "# y_train = np.reshape(y_train, (-1, 1))\n",
    "# y_test = np.reshape(y_test, (-1, 1))\n",
    "# X_train = np.reshape(X_train, (-1, 1))\n",
    "# X_test = np.reshape(X_test, (-1, 1))\n",
    "\n",
    "clf2 = LogisticRegression(max_iter=1e8).fit(X_train, y_train)\n",
    "clf = RandomForestClassifier(n_estimators=100).fit(X_train, y_train)\n",
    "clf3 = svm.SVC(kernel='linear').fit(X_train, y_train)\n",
    "clf4 = svm.SVC(kernel='rbf').fit(X_train, y_train)\n",
    "\n",
    "\n",
    "clf_train_score = clf.score(X_train, y_train)\n",
    "clf_test_score = clf.score(X_test, y_test)\n",
    "\n",
    "clf2_train_score = clf2.score(X_train, y_train)\n",
    "clf2_test_score = clf2.score(X_test, y_test)\n",
    "\n",
    "clf3_train_score = clf3.score(X_train, y_train)\n",
    "clf3_test_score = clf3.score(X_test, y_test)\n",
    "\n",
    "clf4_train_score = clf4.score(X_train, y_train)\n",
    "clf4_test_score = clf4.score(X_test, y_test)\n",
    "\n",
    "\n",
    "print(clf2)\n",
    "print('scores: train = ',np.around(clf2_train_score,2),', test = ',np.around(clf2_test_score,2))\n",
    "print('\\n\\n')\n",
    "print(clf)\n",
    "print('scores: train = ',np.around(clf_train_score,2),', test = ',np.around(clf_test_score,2))\n",
    "print('\\n\\n')\n",
    "print(clf3,clf3.kernel)\n",
    "print('scores: train = ',np.around(clf3_train_score,2),', test = ',np.around(clf3_test_score,2))\n",
    "print('\\n\\n')\n",
    "print(clf4,clf4.kernel)\n",
    "print('scores: train = ',np.around(clf4_train_score,2),', test = ',np.around(clf4_test_score,2))\n",
    "\n",
    "\n",
    "importance = clf.feature_importances_\n",
    "\n",
    "indices = ['Coal_plants','Power_plants','Airports','Public_Schools','Private_Schools','Hospitals',\n",
    "           'Fuel_Stations','Land_area(mi^2)','Population','Number_of_resident_workers',\n",
    "           'Number_of_business_establishments','Route_miles_of_freight_railroad',\n",
    "           'Route_miles_of_passenger_railroad_and_rail_transit','Total_Docks','Number_of_Bridges']\n",
    "\n",
    "print('\\n\\n')\n",
    "plt.barh(indices,importance)\n"
   ]
  },
  {
   "cell_type": "code",
   "execution_count": 6,
   "metadata": {},
   "outputs": [
    {
     "name": "stdout",
     "output_type": "stream",
     "text": [
      "LogisticRegression(max_iter=100000000.0)\n",
      "scores: train =  0.76 , test =  0.73\n",
      "\n",
      "\n",
      "\n",
      "RandomForestClassifier()\n",
      "scores: train =  1.0 , test =  0.74\n",
      "\n",
      "\n",
      "\n",
      "SVC(kernel='linear') linear\n",
      "scores: train =  0.75 , test =  0.73\n",
      "\n",
      "\n",
      "\n",
      "SVC() rbf\n",
      "scores: train =  0.78 , test =  0.75\n"
     ]
    }
   ],
   "source": [
    "k = 5\n",
    "clf_train_score = 0\n",
    "clf_test_score = 0\n",
    "clf2_train_score = 0\n",
    "clf2_test_score = 0\n",
    "clf3_train_score = 0\n",
    "clf3_test_score = 0\n",
    "\n",
    "clf4_train_score = 0\n",
    "clf4_test_score = 0\n",
    "\n",
    "for i in range(k):\n",
    "    X_train, X_test, y_train, y_test = train_test_split(xPrime, Y, test_size=0.3)\n",
    "\n",
    "\n",
    "    clf2 = LogisticRegression(max_iter=1e8).fit(X_train, y_train)\n",
    "    clf = RandomForestClassifier(n_estimators=100).fit(X_train, y_train)\n",
    "    clf3 = svm.SVC(kernel='linear').fit(X_train, y_train)\n",
    "    clf4 = svm.SVC(kernel='rbf').fit(X_train, y_train)\n",
    "\n",
    "\n",
    "    clf_train_score += clf.score(X_train, y_train)\n",
    "    clf_test_score += clf.score(X_test, y_test)\n",
    "\n",
    "    clf2_train_score += clf2.score(X_train, y_train)\n",
    "    clf2_test_score += clf2.score(X_test, y_test)\n",
    "\n",
    "    clf3_train_score += clf3.score(X_train, y_train)\n",
    "    clf3_test_score += clf3.score(X_test, y_test)\n",
    "\n",
    "    clf4_train_score += clf4.score(X_train, y_train)\n",
    "    clf4_test_score += clf4.score(X_test, y_test)\n",
    "\n",
    "    \n",
    "clf_train_score = clf_train_score/k\n",
    "clf_test_score = clf_test_score/k\n",
    "clf2_train_score = clf2_train_score/k\n",
    "clf2_test_score = clf2_test_score/k\n",
    "clf3_train_score = clf3_train_score/k\n",
    "clf3_test_score = clf3_test_score/k\n",
    "clf4_train_score = clf4_train_score/k\n",
    "clf4_test_score = clf4_test_score/k\n",
    "\n",
    "print(clf2)\n",
    "print('scores: train = ',np.around(clf2_train_score,2),', test = ',np.around(clf2_test_score,2))\n",
    "print('\\n\\n')\n",
    "print(clf)\n",
    "print('scores: train = ',np.around(clf_train_score,2),', test = ',np.around(clf_test_score,2))\n",
    "print('\\n\\n')\n",
    "print(clf3,clf3.kernel)\n",
    "print('scores: train = ',np.around(clf3_train_score,2),', test = ',np.around(clf3_test_score,2))\n",
    "print('\\n\\n')\n",
    "print(clf4,clf4.kernel)\n",
    "print('scores: train = ',np.around(clf4_train_score,2),', test = ',np.around(clf4_test_score,2))\n"
   ]
  }
 ],
 "metadata": {
  "kernelspec": {
   "display_name": "Python 3",
   "language": "python",
   "name": "python3"
  },
  "language_info": {
   "codemirror_mode": {
    "name": "ipython",
    "version": 3
   },
   "file_extension": ".py",
   "mimetype": "text/x-python",
   "name": "python",
   "nbconvert_exporter": "python",
   "pygments_lexer": "ipython3",
   "version": "3.8.3"
  }
 },
 "nbformat": 4,
 "nbformat_minor": 4
}
